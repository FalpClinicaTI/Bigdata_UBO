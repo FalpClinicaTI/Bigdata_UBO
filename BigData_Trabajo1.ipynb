{
  "cells": [
    {
      "cell_type": "markdown",
      "metadata": {
        "id": "view-in-github",
        "colab_type": "text"
      },
      "source": [
        "<a href=\"https://colab.research.google.com/github/FalpClinicaTI/Bigdata_UBO/blob/main/BigData_Trabajo1.ipynb\" target=\"_parent\"><img src=\"https://colab.research.google.com/assets/colab-badge.svg\" alt=\"Open In Colab\"/></a>"
      ]
    },
    {
      "cell_type": "code",
      "source": [
        "from google.colab import drive\n",
        "drive.mount(\"/content/gdrive\")\n",
        "gdrive='/content/gdrive/MyDrive/BigData/Clase1'"
      ],
      "metadata": {
        "colab": {
          "base_uri": "https://localhost:8080/"
        },
        "id": "Dd2uCSbwnSAC",
        "outputId": "6441bd3b-b480-46c7-9b04-62e28cc81457"
      },
      "execution_count": 2,
      "outputs": [
        {
          "output_type": "stream",
          "name": "stdout",
          "text": [
            "Mounted at /content/gdrive\n"
          ]
        }
      ]
    },
    {
      "cell_type": "code",
      "execution_count": null,
      "metadata": {
        "id": "6P4OAwiV-6Lb",
        "colab": {
          "base_uri": "https://localhost:8080/"
        },
        "outputId": "0b14500f-fb09-498b-9a56-03d5e62a874a"
      },
      "outputs": [
        {
          "output_type": "stream",
          "name": "stdout",
          "text": [
            "Requirement already satisfied: pyspark in /usr/local/lib/python3.10/dist-packages (3.5.0)\n",
            "Requirement already satisfied: py4j==0.10.9.7 in /usr/local/lib/python3.10/dist-packages (from pyspark) (0.10.9.7)\n"
          ]
        }
      ],
      "source": [
        "!pip install pyspark"
      ]
    },
    {
      "cell_type": "code",
      "execution_count": null,
      "metadata": {
        "id": "ZMSSPXa0_Q6o",
        "colab": {
          "base_uri": "https://localhost:8080/"
        },
        "outputId": "00db458c-fd5d-431c-915d-74d998d2643d"
      },
      "outputs": [
        {
          "output_type": "stream",
          "name": "stdout",
          "text": [
            "Requirement already satisfied: pyarrow in /usr/local/lib/python3.10/dist-packages (9.0.0)\n",
            "Requirement already satisfied: numpy>=1.16.6 in /usr/local/lib/python3.10/dist-packages (from pyarrow) (1.23.5)\n"
          ]
        }
      ],
      "source": [
        "!pip install pyarrow"
      ]
    },
    {
      "cell_type": "code",
      "source": [
        "from pyspark.sql import SparkSession\n",
        "from pyspark.sql.types import IntegerType\n",
        "from pyspark.sql.types import DecimalType\n",
        "from pyspark.sql.types import StringType\n",
        "from pyspark.sql.types import StructType\n",
        "from pyspark.sql.types import StructField\n",
        "\n",
        "segmentacionShema = StructType ([\n",
        "    StructField(\"RUT_CLI\", IntegerType(), True),\n",
        "    StructField(\"SEGMENTO\", StringType(), True),\n",
        "    StructField(\"SUB_SEGMENTO_1\", DecimalType(), True),\n",
        "    StructField(\"SUB_SEGMENTO_2\", DecimalType(), True),\n",
        "    StructField(\"SUB_SEGMENTO_3\", DecimalType(), True),\n",
        "    StructField(\"VALOR_JERARQUIA\", StringType(), True),\n",
        "    StructField(\"JERARQUIA\", StringType(), True),\n",
        "    StructField(\"SEGMENTO_string\", StringType(), True)\n",
        "])\n",
        "\n",
        "pricingShema = StructType ([\n",
        "    StructField(\"SEGMENTO\", IntegerType(), True),\n",
        "    StructField(\"SUCURSAL\", StringType(), True),\n",
        "    StructField(\"RUBRO\", StringType(), True),\n",
        "    StructField(\"FAMILIA\", IntegerType(), True),\n",
        "    StructField(\"SUBFAMILIA\", IntegerType(), True),\n",
        "    StructField(\"PRODUCTO\", StringType(), True),\n",
        "    StructField(\"JERARQUIA\", StringType(), True),\n",
        "    StructField(\"MARGEN\", DecimalType(), True),\n",
        "    StructField(\"MARGEN_PRE_APRO\", DecimalType(), True)\n",
        "])\n",
        "\n"
      ],
      "metadata": {
        "id": "9kzHtywmq7My"
      },
      "execution_count": null,
      "outputs": []
    },
    {
      "cell_type": "code",
      "execution_count": null,
      "metadata": {
        "id": "xQc9k4qwAPJT"
      },
      "outputs": [],
      "source": [
        "from pyspark.sql import SparkSession\n",
        "spark=SparkSession.builder.master(\"local[*]\").appName(\"ejemplo1\").getOrCreate()"
      ]
    },
    {
      "cell_type": "code",
      "source": [
        "segmentacion = gdrive+'/Tabla_segmentacion.csv'\n",
        "pricing = gdrive+'/Tabla_pricing.csv'"
      ],
      "metadata": {
        "id": "ruser3AnnkqF"
      },
      "execution_count": null,
      "outputs": []
    },
    {
      "cell_type": "code",
      "source": [
        "#df_segmentacion=spark.read.format(\"com.databricks.spark.csv\").schema(customsShema).load(segmentacion)\n",
        "# Cargar el DataFrame con otro nombre para la columna\n",
        "df_segmentacion = spark.read.format(\"com.databricks.spark.csv\").schema(segmentacionShema).load(segmentacion)\n",
        "df_pricing = spark.read.format(\"com.databricks.spark.csv\").schema(pricingShema).load(pricing)"
      ],
      "metadata": {
        "id": "6XVniL1cumJl"
      },
      "execution_count": null,
      "outputs": []
    },
    {
      "cell_type": "code",
      "source": [
        "# Nos envia sin estructura\n",
        "#df_segmentacion = spark.read.csv(segmentacion, inferSchema=True, header =True,sep=\";\")\n",
        "df_segmentacion = spark.read.csv(segmentacion, segmentacionShema, header =True,sep=\";\")\n",
        "#df_pricing = spark.read.csv(pricing, inferSchema=True, header =True,sep=\";\")\n",
        "df_pricing = spark.read.csv(pricing, pricingShema, header =True,sep=\";\")\n",
        "\n",
        "#df_pricing"
      ],
      "metadata": {
        "id": "LOOuSpeDpfZi"
      },
      "execution_count": null,
      "outputs": []
    },
    {
      "cell_type": "code",
      "source": [
        "df_segmentacion.createOrReplaceTempView(\"segmentacion\")\n",
        "df_pricing.createOrReplaceTempView(\"pricing\")"
      ],
      "metadata": {
        "id": "sCaP12NgqBHE"
      },
      "execution_count": null,
      "outputs": []
    },
    {
      "cell_type": "code",
      "source": [
        "spark.sql(\"select * from segmentacion\").show()"
      ],
      "metadata": {
        "colab": {
          "base_uri": "https://localhost:8080/"
        },
        "id": "y8X_DkLNqFmQ",
        "outputId": "073f6a98-0bea-4db8-ae42-be6fa0089f6e"
      },
      "execution_count": null,
      "outputs": [
        {
          "output_type": "stream",
          "name": "stdout",
          "text": [
            "+--------+--------+--------------+--------------+--------------+---------------+---------+---------------+\n",
            "| RUT_CLI|SEGMENTO|SUB_SEGMENTO_1|SUB_SEGMENTO_2|SUB_SEGMENTO_3|VALOR_JERARQUIA|JERARQUIA|SEGMENTO_string|\n",
            "+--------+--------+--------------+--------------+--------------+---------------+---------+---------------+\n",
            "|25501902|   31833|             0|             0|             3|           5-10|        2|     0-0-3-p90+|\n",
            "|77447639|   31844|             0|             0|             5|           5-10|        2|      0-0-5-p90|\n",
            "|10935354|   51716|             3|             0|             3|           5-15|        2|       3-0-p90+|\n",
            "|76956256|   31820|             0|             0|             1|           5-19|        2|      0-0-1-p90|\n",
            "|76131545|   31825|             0|             0|             2|           5-21|        2|      0-0-2-p70|\n",
            "|77310489|   31832|             0|             0|             3|           5-10|        2|      0-0-3-p90|\n",
            "|76660860|   31844|             0|             0|             5|           5-21|        2|      0-0-5-p90|\n",
            "|77032139|   31833|             0|             0|             3|           5-18|        2|     0-0-3-p90+|\n",
            "|77283070|   31830|             0|             0|             3|           5-12|        2|      0-0-3-p50|\n",
            "|12448703|   51716|             3|             0|             3|           5-15|        2|       3-0-p90+|\n",
            "|76608578|   51716|             3|             0|             4|           5-15|        2|       3-0-p90+|\n",
            "|76280854|   31844|             0|             0|             5|           5-10|        2|      0-0-5-p90|\n",
            "|76963495|   31844|             0|             0|             5|           5-10|        2|      0-0-5-p90|\n",
            "|76920315|   42942|             2|             0|             2|           5-17|        2|        2-0-p10|\n",
            "|76463958|   31832|             0|             0|             3|           5-10|        2|      0-0-3-p90|\n",
            "|77513021|   31832|             0|             0|             3|           5-10|        2|      0-0-3-p90|\n",
            "|77017212|   31831|             0|             0|             3|           5-22|        2|      0-0-3-p70|\n",
            "| 8015949|   31844|             0|             0|             5|           5-21|        2|      0-0-5-p90|\n",
            "|76989789|   31844|             0|             0|             5|           5-21|        2|      0-0-5-p90|\n",
            "|76660730|   31820|             0|             0|             1|           5-19|        2|      0-0-1-p90|\n",
            "+--------+--------+--------------+--------------+--------------+---------------+---------+---------------+\n",
            "only showing top 20 rows\n",
            "\n"
          ]
        }
      ]
    },
    {
      "cell_type": "code",
      "source": [
        "spark.sql(\"select count(*) from segmentacion\").show()"
      ],
      "metadata": {
        "colab": {
          "base_uri": "https://localhost:8080/"
        },
        "id": "_IvyKgp1qKFs",
        "outputId": "c9a912eb-e0a7-465f-d167-485962c3741d"
      },
      "execution_count": null,
      "outputs": [
        {
          "output_type": "stream",
          "name": "stdout",
          "text": [
            "+--------+\n",
            "|count(1)|\n",
            "+--------+\n",
            "| 2805667|\n",
            "+--------+\n",
            "\n"
          ]
        }
      ]
    },
    {
      "cell_type": "code",
      "source": [
        "spark.sql(\"select * from pricing\").show()"
      ],
      "metadata": {
        "colab": {
          "base_uri": "https://localhost:8080/"
        },
        "id": "0n_ZPe5_qOAe",
        "outputId": "a5401b08-8d61-48ce-dfa3-e74f428952c7"
      },
      "execution_count": null,
      "outputs": [
        {
          "output_type": "stream",
          "name": "stdout",
          "text": [
            "+--------+--------+-----+-------+----------+--------+---------+------+---------------+\n",
            "|SEGMENTO|SUCURSAL|RUBRO|FAMILIA|SUBFAMILIA|PRODUCTO|JERARQUIA|MARGEN|MARGEN_PRE_APRO|\n",
            "+--------+--------+-----+-------+----------+--------+---------+------+---------------+\n",
            "|   31820|    E523|  I4 |     13|         2|    NULL|        2|     0|              0|\n",
            "|   31820|    E523|  I5 |     13|         2|    NULL|        2|     0|              0|\n",
            "|   31820|    E523|  O4 |     13|         2|    NULL|        2|     0|              0|\n",
            "|   31821|    E523|  C7 |     13|         2|    NULL|        2|     0|              0|\n",
            "|   31822|    E523|  I3 |     13|         2|    NULL|        2|     0|              0|\n",
            "|   31823|    E523|  C6 |     13|         2|    NULL|        2|     0|              0|\n",
            "|   31823|    E523|  I2 |     13|         2|    NULL|        2|     0|              0|\n",
            "|   31823|    E523|  O4 |     13|         2|    NULL|        2|     0|              0|\n",
            "|   31824|    E523|  C1 |     13|         2|    NULL|        2|     0|              0|\n",
            "|   31824|    E523|  C6 |     13|         2|    NULL|        2|     0|              0|\n",
            "|   31824|    E523|  I2 |     13|         2|    NULL|        2|     0|              0|\n",
            "|   31824|    E523|  I3 |     13|         2|    NULL|        2|     0|              0|\n",
            "|   31824|    E523|  O1 |     13|         2|    NULL|        2|     0|              0|\n",
            "|   31825|    E523|  C1 |     13|         2|    NULL|        2|     0|              0|\n",
            "|   31825|    E523|  C3 |     13|         2|    NULL|        2|     0|              0|\n",
            "|   31825|    E523|  I2 |     13|         2|    NULL|        2|     0|              0|\n",
            "|   31825|    E523|  O4 |     13|         2|    NULL|        2|     0|              0|\n",
            "|   31826|    E523|  C4 |     13|         2|    NULL|        2|     0|              0|\n",
            "|   31827|    E523|  C1 |     13|         2|    NULL|        2|     0|              0|\n",
            "|   31827|    E523|  C5 |     13|         2|    NULL|        2|     0|              0|\n",
            "+--------+--------+-----+-------+----------+--------+---------+------+---------------+\n",
            "only showing top 20 rows\n",
            "\n"
          ]
        }
      ]
    },
    {
      "cell_type": "code",
      "source": [
        "spark.sql(\"select count(*) from pricing\").show()"
      ],
      "metadata": {
        "colab": {
          "base_uri": "https://localhost:8080/"
        },
        "id": "2swfTuEsqRsv",
        "outputId": "b04d6176-8dda-47c9-c09b-393d74251179"
      },
      "execution_count": null,
      "outputs": [
        {
          "output_type": "stream",
          "name": "stdout",
          "text": [
            "+--------+\n",
            "|count(1)|\n",
            "+--------+\n",
            "|12581326|\n",
            "+--------+\n",
            "\n"
          ]
        }
      ]
    },
    {
      "cell_type": "code",
      "source": [
        "qry='''\n",
        "  select * from pricing\n",
        "  where SEGMENTO= (\n",
        "    select SEGMENTO\n",
        "    from segmentacion\n",
        "    where RUT_CLI=25501902\n",
        "    limit 1)\n",
        "  and FAMILIA=13 and SUBFAMILIA=2 and SUCURSAL='E566'\n",
        "    '''\n",
        "spark.sql(qry).show()"
      ],
      "metadata": {
        "colab": {
          "base_uri": "https://localhost:8080/"
        },
        "id": "UvDvFVG-qz2L",
        "outputId": "f7f69dc4-1fc8-49dc-b680-8d6ef790e81b"
      },
      "execution_count": null,
      "outputs": [
        {
          "output_type": "stream",
          "name": "stdout",
          "text": [
            "+--------+--------+-----+-------+----------+--------+---------+------------------+------------------+\n",
            "|SEGMENTO|SUCURSAL|RUBRO|FAMILIA|SUBFAMILIA|PRODUCTO|JERARQUIA|            MARGEN|   MARGEN_PRE_APRO|\n",
            "+--------+--------+-----+-------+----------+--------+---------+------------------+------------------+\n",
            "|   31833|    E566|  C3 |     13|         2|    NULL|        2|0.3842230218422212|0.3350387557238239|\n",
            "|   31833|    E566|  C4 |     13|         2|    NULL|        2|0.3765971203726944|0.3464784282842897|\n",
            "|   31833|    E566|  I1 |     13|         2|    NULL|        2|0.3831501831501831|0.3394390383514596|\n",
            "|   31833|    E566|  I3 |     13|         2|    NULL|        2|0.3347916186967534|0.2968197879858657|\n",
            "|   31833|    E566|  O2 |     13|         2|    NULL|        2|0.3835990068026814|0.3435897435897436|\n",
            "|   31833|    E566|  C1 |     13|         2|    NULL|        2|0.3720893094560769|0.3392901158491496|\n",
            "|   31833|    E566|  C6 |     13|         2|    NULL|        2|0.3666363126926311|0.3344209984559959|\n",
            "|   31833|    E566|  C7 |     13|         2|    NULL|        2|0.3743351277838838|0.3396261194678724|\n",
            "|   31833|    E566|  I2 |     13|         2|    NULL|        2|0.3814355418592706|0.3404255319148936|\n",
            "|   31833|    E566|  I4 |     13|         2|    NULL|        2|0.3832170848271809| 0.338880563891594|\n",
            "|   31833|    E566|  O1 |     13|         2|    NULL|        2|0.3463988782091924|0.3275734715461916|\n",
            "|   31833|    E566|  O3 |     13|         2|    NULL|        2|0.2666049822064057|0.2612099644128114|\n",
            "|   31833|    E566|  C2 |     13|         2|    NULL|        2|0.3679389308136719|0.3373806580179484|\n",
            "|   31833|    E566|  M1 |     13|         2|    NULL|        2|0.3571222919696755|0.3305062034739454|\n",
            "|   31833|    E566|  C5 |     13|         2|    NULL|        2|0.3876918032786886|0.3559817113105072|\n",
            "|   31833|    E566|  I5 |     13|         2|    NULL|        2|0.3565557729941291|0.3271390589671746|\n",
            "|   31833|    E566|  O4 |     13|         2|    NULL|        2|0.3809523809523809|0.3404255319148936|\n",
            "+--------+--------+-----+-------+----------+--------+---------+------------------+------------------+\n",
            "\n"
          ]
        }
      ]
    }
  ],
  "metadata": {
    "colab": {
      "provenance": [],
      "authorship_tag": "ABX9TyMmubpzk8DOrZrvC/BKHeyp",
      "include_colab_link": true
    },
    "kernelspec": {
      "display_name": "Python 3",
      "name": "python3"
    },
    "language_info": {
      "name": "python"
    }
  },
  "nbformat": 4,
  "nbformat_minor": 0
}